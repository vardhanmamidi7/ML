{
 "cells": [
  {
   "cell_type": "code",
   "execution_count": 2,
   "metadata": {},
   "outputs": [],
   "source": [
    "import numpy as np \n",
    "import matplotlib.pyplot as plt\n"
   ]
  },
  {
   "cell_type": "code",
   "execution_count": 3,
   "metadata": {},
   "outputs": [],
   "source": [
    "np.random.seed(0)"
   ]
  },
  {
   "cell_type": "code",
   "execution_count": 9,
   "metadata": {},
   "outputs": [],
   "source": [
    "dog_ear_flappiness_index=np.random.normal(loc=8,scale=1,size=10)\n",
    "dog_whisker_length=np.random.normal(loc=5,scale=1,size=10)"
   ]
  },
  {
   "cell_type": "code",
   "execution_count": 8,
   "metadata": {},
   "outputs": [],
   "source": [
    "cat_ear_flappiness_index=np.random.normal(loc=5,scale=1,size=10)\n",
    "cat_whisker_length=np.random.normal(loc=8,scale=1,size=10)"
   ]
  },
  {
   "cell_type": "code",
   "execution_count": 10,
   "metadata": {},
   "outputs": [
    {
     "data": {
      "text/plain": [
       "array([3.95144703, 3.57998206, 3.29372981, 6.9507754 , 4.49034782,\n",
       "       4.5619257 , 3.74720464, 5.77749036, 3.38610215, 4.78725972])"
      ]
     },
     "execution_count": 10,
     "metadata": {},
     "output_type": "execute_result"
    }
   ],
   "source": [
    "cat_ear_flappiness_index"
   ]
  },
  {
   "cell_type": "code",
   "execution_count": 15,
   "metadata": {},
   "outputs": [
    {
     "data": {
      "image/png": "[encoded data removed]",
      "text/plain": [
       "<Figure size 432x288 with 1 Axes>"
      ]
     },
     "metadata": {
      "needs_background": "light"
     },
     "output_type": "display_data"
    }
   ],
   "source": [
    "\n",
    "plt.scatter(dog_whisker_length,dog_ear_flappiness_index,label=\"dogs\")\n",
    "plt.scatter(cat_whisker_length,cat_ear_flappiness_index,label=\"cats\")\n",
    "plt.xlabel(\"whiskerLength\",color=\"white\")\n",
    "plt.ylabel(\"ear_flappiness_index\",color=\"white\")\n",
    "plt.legend()\n",
    "plt.show()\n"
   ]
  },
  {
   "cell_type": "code",
   "execution_count": 46,
   "metadata": {},
   "outputs": [],
   "source": [
    "def random_linear_classifier(dogs_data,cats_data,k,d):\n",
    "    best_error=float('inf')\n",
    "    best_theta=None\n",
    "    best_theta_not=None \n",
    "\n",
    "    for _ in range(k):\n",
    "     theta=np.random.normal(size=d)\n",
    "     theta_not=np.random.normal()\n",
    "     error=compute_error(theta,theta_not,dogs_data,cats_data)\n",
    "     if(error<best_error):\n",
    "      best_error=error\n",
    "      best_theta=theta\n",
    "      best_theta_not=theta_not\n",
    "\n",
    "    return best_theta,best_theta_not\n",
    "\n",
    "          "
   ]
  },
  {
   "cell_type": "code",
   "execution_count": 47,
   "metadata": {},
   "outputs": [],
   "source": [
    "def compute_error(theta,theta_not,dogs_data,cats_data):\n",
    "    error=0\n",
    "    for x in dogs_data:\n",
    "        if np.dot(theta,x)+theta_not<=0:\n",
    "            error+=1\n",
    "    for y in cats_data:\n",
    "        if np.dot(theta,y)+theta_not>0:\n",
    "            error+=1\n",
    "    return error"
   ]
  },
  {
   "cell_type": "code",
   "execution_count": 31,
   "metadata": {},
   "outputs": [
    {
     "data": {
      "text/plain": [
       "array([[7.32753955, 5.72909056],\n",
       "       [7.64044684, 5.12898291],\n",
       "       [7.18685372, 6.13940068],\n",
       "       [6.2737174 , 3.76517418],\n",
       "       [8.17742614, 5.40234164],\n",
       "       [7.59821906, 4.31518991],\n",
       "       [6.36980165, 4.12920285],\n",
       "       [8.46278226, 4.42115034],\n",
       "       [7.09270164, 4.68844747],\n",
       "       [8.0519454 , 5.05616534]])"
      ]
     },
     "execution_count": 31,
     "metadata": {},
     "output_type": "execute_result"
    }
   ],
   "source": [
    "dogs_data=np.vstack((dog_ear_flappiness_index,dog_whisker_length)).T\n",
    "dogs_data\n"
   ]
  },
  {
   "cell_type": "code",
   "execution_count": 32,
   "metadata": {},
   "outputs": [
    {
     "data": {
      "text/plain": [
       "array([[3.95144703, 7.10453344],\n",
       "       [3.57998206, 8.3869025 ],\n",
       "       [3.29372981, 7.48919486],\n",
       "       [6.9507754 , 6.81936782],\n",
       "       [4.49034782, 7.97181777],\n",
       "       [4.5619257 , 8.42833187],\n",
       "       [3.74720464, 8.06651722],\n",
       "       [5.77749036, 8.3024719 ],\n",
       "       [3.38610215, 7.36567791],\n",
       "       [4.78725972, 7.63725883]])"
      ]
     },
     "execution_count": 32,
     "metadata": {},
     "output_type": "execute_result"
    }
   ],
   "source": [
    "cats_data=np.vstack((cat_ear_flappiness_index,cat_whisker_length)).T\n",
    "cats_data"
   ]
  },
  {
   "cell_type": "code",
   "execution_count": 48,
   "metadata": {},
   "outputs": [
    {
     "name": "stdout",
     "output_type": "stream",
     "text": [
      "[ 0.65880214 -0.59691711]\n",
      "-0.22295918297037942\n"
     ]
    }
   ],
   "source": [
    "k=100\n",
    "d=2\n",
    "best_Theta,best_theta_not=random_linear_classifier(dogs_data,cats_data,k,d)\n",
    "print(best_Theta)\n",
    "print(best_theta_not)\n"
   ]
  },
  {
   "cell_type": "code",
   "execution_count": 49,
   "metadata": {},
   "outputs": [],
   "source": [
    "#plotting the decision Boundary\n",
    "x_vals=np.linspace(2,10,100)\n",
    "y_vals=(-best_Theta[0]/best_Theta[1])*x_vals-(best_theta_not/best_Theta[1])"
   ]
  },
  {
   "cell_type": "code",
   "execution_count": 50,
   "metadata": {},
   "outputs": [
    {
     "data": {
      "image/png": "[encoded data removed]",
      "text/plain": [
       "<Figure size 432x288 with 1 Axes>"
      ]
     },
     "metadata": {
      "needs_background": "light"
     },
     "output_type": "display_data"
    }
   ],
   "source": [
    "plt.scatter(dog_whisker_length,dog_ear_flappiness_index,label=\"dogs\")\n",
    "plt.scatter(cat_whisker_length,cat_ear_flappiness_index,label=\"cats\")\n",
    "plt.plot(x_vals,y_vals,color='green',linestyle='--',label=\"decision_boundary\")\n",
    "plt.xlabel(\"whiskerLength\",color=\"white\")\n",
    "plt.ylabel(\"ear_flappiness_index\",color=\"white\")\n",
    "plt.legend()\n",
    "plt.show()"
   ]
  }
 ],
 "metadata": {
  "kernelspec": {
   "display_name": "Python 3",
   "language": "python",
   "name": "python3"
  },
  "language_info": {
   "codemirror_mode": {
    "name": "ipython",
    "version": 3
   },
   "file_extension": ".py",
   "mimetype": "text/x-python",
   "name": "python",
   "nbconvert_exporter": "python",
   "pygments_lexer": "ipython3",
   "version": "3.8.10"
  }
 },
 "nbformat": 4,
 "nbformat_minor": 2
}
