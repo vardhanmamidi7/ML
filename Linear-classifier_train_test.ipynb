{
 "cells": [
  {
   "cell_type": "code",
   "execution_count": 49,
   "metadata": {},
   "outputs": [],
   "source": [
    "import numpy as np\n",
    "import matplotlib.pyplot as plt\n",
    "from sklearn.model_selection import train_test_split,KFold"
   ]
  },
  {
   "cell_type": "code",
   "execution_count": 50,
   "metadata": {},
   "outputs": [],
   "source": [
    "np.random.seed(0)"
   ]
  },
  {
   "cell_type": "code",
   "execution_count": 51,
   "metadata": {},
   "outputs": [],
   "source": [
    "dog_ear_flappiness_index=np.random.normal(loc=8,scale=1,size=10)\n",
    "dog_whisker_length=np.random.normal(loc=5,scale=1,size=10)"
   ]
  },
  {
   "cell_type": "code",
   "execution_count": 52,
   "metadata": {},
   "outputs": [],
   "source": [
    "cat_ear_flappiness_index=np.random.normal(loc=5,scale=1,size=10)\n",
    "cat_whisker_length=np.random.normal(loc=8,scale=1,size=10)"
   ]
  },
  {
   "cell_type": "code",
   "execution_count": 53,
   "metadata": {},
   "outputs": [
    {
     "data": {
      "text/plain": [
       "array([0., 0., 0., 0., 0., 0., 0., 0., 0., 0., 1., 1., 1., 1., 1., 1., 1.,\n",
       "       1., 1., 1.])"
      ]
     },
     "execution_count": 53,
     "metadata": {},
     "output_type": "execute_result"
    }
   ],
   "source": [
    "dogs_data=np.vstack((dog_ear_flappiness_index,dog_whisker_length)).T\n",
    "cats_data=np.vstack((cat_ear_flappiness_index,cat_whisker_length)).T\n",
    "data=np.vstack((dogs_data,cats_data))\n",
    "labels=np.hstack((np.zeros(len(dogs_data)),np.ones(len(cats_data))))\n",
    "labels"
   ]
  },
  {
   "cell_type": "code",
   "execution_count": 54,
   "metadata": {},
   "outputs": [
    {
     "data": {
      "text/plain": [
       "array([0., 0., 1., 0., 1., 1., 1., 0., 0., 1., 0., 1., 0., 1., 1., 0.])"
      ]
     },
     "execution_count": 54,
     "metadata": {},
     "output_type": "execute_result"
    }
   ],
   "source": [
    "x_train,x_test,y_train,y_test=train_test_split(data,labels,test_size=0.2,random_state=42)\n",
    "y_train"
   ]
  },
  {
   "cell_type": "code",
   "execution_count": 55,
   "metadata": {},
   "outputs": [
    {
     "data": {
      "image/png": "[encoded data removed]",
      "text/plain": [
       "<Figure size 720x576 with 1 Axes>"
      ]
     },
     "metadata": {
      "needs_background": "light"
     },
     "output_type": "display_data"
    }
   ],
   "source": [
    "dogs_train=x_train[y_train==0]\n",
    "cats_train=x_train[y_train==1]\n",
    "cats_test=x_test[y_test==1]\n",
    "dogs_test=x_test[y_test==0]\n",
    "\n",
    "plt.figure(figsize=(10,8))\n",
    "plt.scatter(dogs_train[:,0],dogs_train[:,1],color=\"BLACK\",label=\"dogs_train\")\n",
    "plt.scatter(cats_train[:,0],cats_train[:,1],color=\"blue\",label=\"cats_train\")\n",
    "plt.scatter(dogs_test[:,0],dogs_test[:,1],color= \"GREEN\",marker=\"o\",label=\"dogs_test\")\n",
    "plt.scatter(cats_test[:,0],cats_test[:,1],  color=\"RED\" ,marker=\"o\",label=\"cats_test\")\n",
    "plt.xlabel(\"Whisker Length\",color=\"white\")\n",
    "plt.ylabel(\"Ear Flappiness Index\",color=\"white\")\n",
    "plt.legend()\n",
    "plt.show()"
   ]
  },
  {
   "cell_type": "code",
   "execution_count": 56,
   "metadata": {},
   "outputs": [],
   "source": [
    "def random_linear_classifier(dogs_data,cats_data,k,d):\n",
    "    best_error=float('inf')\n",
    "    best_theta=None\n",
    "    best_theta_not=None \n",
    "\n",
    "    for _ in range(k):\n",
    "     theta=np.random.normal(size=d)\n",
    "     theta_not=np.random.normal()\n",
    "     error=compute_error(theta,theta_not,dogs_data,cats_data)\n",
    "     if(error<best_error):\n",
    "      best_error=error\n",
    "      best_theta=theta\n",
    "      best_theta_not=theta_not\n",
    "\n",
    "    return best_theta,best_theta_not,best_error\n",
    "\n"
   ]
  },
  {
   "cell_type": "code",
   "execution_count": 57,
   "metadata": {},
   "outputs": [],
   "source": [
    "def compute_error(theta,theta_not,dogs_data,cats_data):\n",
    "    error=0\n",
    "    for x in dogs_data:\n",
    "        if np.dot(theta,x)+theta_not<=0:\n",
    "            error+=1\n",
    "    for y in cats_data:\n",
    "        if np.dot(theta,y)+theta_not>0:\n",
    "            error+=1\n",
    "    return error"
   ]
  },
  {
   "cell_type": "code",
   "execution_count": 87,
   "metadata": {},
   "outputs": [
    {
     "name": "stdout",
     "output_type": "stream",
     "text": [
      "Best value of k: 50\n"
     ]
    }
   ],
   "source": [
    "# def cross_validation(data_dogs,data_cats,k_values,d,n_splits=5):\n",
    "#     kf=KFold(n_splits=n_splits,shuffle=True,random_state=42)\n",
    "#     avg_errors=[]\n",
    "\n",
    "#     for k in k_values:\n",
    "#         errors=[]\n",
    "\n",
    "\n",
    "#         for train_index,val_index in kf.split(data_dogs):\n",
    "#             x_train_fold=np.vstack((data_dogs[train_index],data_cats[train_index]))\n",
    "#             y_train_fold=np.hstack((np.zeros(len(train_index)),np.ones(len(train_index))))\n",
    "#             x_val_fold = np.vstack((data_dogs[val_index], data_cats[val_index]))\n",
    "#             y_val_fold=np.hstack((np.zeros(len(val_index)),np.ones(len(val_index))))\n",
    "\n",
    "#             best_theta_fold,best_theta_not_fold,error=random_linear_classifier(x_train_fold[y_train_fold==0],x_train_fold[y_train_fold==1],k,d)\n",
    "\n",
    "#             errors.append(compute_error(x_val_fold[y_val_fold==0],x_val_fold[y_val_fold==1],best_theta_fold,best_theta_not_fold))\n",
    "\n",
    "\n",
    "#         avg.error.append(np.mean(errors))\n",
    "\n",
    "\n",
    "#     best_k=k_values[np.argmin(avg_errors)]\n",
    "#     return best_k\n",
    "\n",
    "# k_values=[1,10,50,100,200,350]\n",
    "\n",
    "# best_k=cross_validation(dogs_data,cats_data,k_values,d=2)\n",
    "\n",
    "# print(f\"best value of k:{best_k}\")\n",
    "\n",
    "import numpy as np\n",
    "from sklearn.model_selection import KFold\n",
    "\n",
    "def cross_validation(data_dogs, data_cats, k_values, d, n_splits=5):\n",
    "    kf = KFold(n_splits=n_splits, shuffle=True, random_state=42)\n",
    "    avg_errors = []\n",
    "\n",
    "    for k in k_values:\n",
    "        errors = []\n",
    "\n",
    "        for train_index, val_index in kf.split(data_dogs):\n",
    "            x_train_fold = np.vstack((data_dogs[train_index], data_cats[train_index]))\n",
    "            y_train_fold = np.hstack((np.zeros(len(train_index)), np.ones(len(train_index))))\n",
    "            x_val_fold = np.vstack((data_dogs[val_index], data_cats[val_index]))\n",
    "            y_val_fold = np.hstack((np.zeros(len(val_index)), np.ones(len(val_index))))\n",
    "\n",
    "            best_theta_fold, best_theta_not_fold, error = random_linear_classifier(\n",
    "                x_train_fold[y_train_fold == 0], x_train_fold[y_train_fold == 1], k, d\n",
    "            )\n",
    "\n",
    "            errors.append(compute_error(\n",
    "                best_theta_fold, best_theta_not_fold, \n",
    "                x_val_fold[y_val_fold == 0], x_val_fold[y_val_fold == 1]\n",
    "            ))\n",
    "\n",
    "        avg_errors.append(np.mean(errors))\n",
    "\n",
    "    best_k = k_values[np.argmin(avg_errors)]\n",
    "    return best_k\n",
    "\n",
    "k_values = [1, 10, 50, 100, 200, 350]\n",
    "best_k = cross_validation(dogs_data, cats_data, k_values, d=2)\n",
    "\n",
    "print(f\"Best value of k: {best_k}\")\n",
    "\n"
   ]
  },
  {
   "cell_type": "code",
   "execution_count": 88,
   "metadata": {},
   "outputs": [
    {
     "name": "stdout",
     "output_type": "stream",
     "text": [
      "[ 0.93542329 -1.10610664]\n",
      "0.14559838950107964\n"
     ]
    }
   ],
   "source": [
    "k=best_k\n",
    "d=2\n",
    "best_Theta_train,best_theta_not_train,train_error=random_linear_classifier(x_train[y_train==0],x_train[y_train==1],k,d)\n",
    "print(best_Theta_train)\n",
    "print(best_theta_not_train)"
   ]
  },
  {
   "cell_type": "code",
   "execution_count": 89,
   "metadata": {},
   "outputs": [],
   "source": [
    "#plotting the decision Boundary\n",
    "x_vals=np.linspace(2,10,100)\n",
    "y_vals=(-best_Theta_train[0]/best_Theta_train[1])*x_vals-(best_theta_not_train/best_Theta_train[1])"
   ]
  },
  {
   "cell_type": "code",
   "execution_count": 90,
   "metadata": {},
   "outputs": [
    {
     "data": {
      "image/png": "[encoded data removed]",
      "text/plain": [
       "<Figure size 720x576 with 1 Axes>"
      ]
     },
     "metadata": {
      "needs_background": "light"
     },
     "output_type": "display_data"
    }
   ],
   "source": [
    "plt.figure(figsize=(10,8))\n",
    "\n",
    "plt.scatter(x_train[y_train==0][:,0],x_train[y_train==0][:,1],label=\"dogs\")\n",
    "plt.scatter(x_train[y_train==1][:,0],x_train[y_train==1][:,1],label=\"cats\")\n",
    "plt.plot(x_vals,y_vals,color='green',linestyle='--',label=\"Training  decision_boundary\")\n",
    "plt.xlabel(\"whiskerLength\",color=\"white\")\n",
    "plt.ylabel(\"ear_flappiness_index\",color=\"white\")\n",
    "plt.legend()\n",
    "plt.show()"
   ]
  },
  {
   "cell_type": "code",
   "execution_count": null,
   "metadata": {},
   "outputs": [],
   "source": []
  }
 ],
 "metadata": {
  "kernelspec": {
   "display_name": "Python 3",
   "language": "python",
   "name": "python3"
  },
  "language_info": {
   "codemirror_mode": {
    "name": "ipython",
    "version": 3
   },
   "file_extension": ".py",
   "mimetype": "text/x-python",
   "name": "python",
   "nbconvert_exporter": "python",
   "pygments_lexer": "ipython3",
   "version": "3.8.10"
  }
 },
 "nbformat": 4,
 "nbformat_minor": 2
}
